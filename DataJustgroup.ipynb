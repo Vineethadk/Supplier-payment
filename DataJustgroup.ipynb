{
 "cells": [
  {
   "attachments": {},
   "cell_type": "markdown",
   "id": "cd67e0ba",
   "metadata": {},
   "source": [
    "##### Data Analysis Task for Job Interview\n",
    "Scenario: Payments to Suppliers\n",
    "You are a data analyst at a local council. You are given a dataset that contains information about the payments made to the suppliers. The dataset can be found here: All Payments to Suppliers - Datasets - York Open Data. Please use the 2023/24 payments to suppliers dataset. \n",
    "Your task is to perform some data analysis on the dataset to provide insights to senior management. \n",
    "Examples include:\n",
    "1.\tHow many suppliers are there in the dataset?\n",
    "2.\tWhat is the total amount of payments made to the suppliers in the dataset?\n",
    "3.\tWhat is the average payment amount per supplier?\n",
    "4.\tWhich expense area has the highest total payment amount?\n",
    "Please provide any additional visualisation and insights that you feel are appropriate. \n"
   ]
  },
  {
   "cell_type": "code",
   "execution_count": 6,
   "id": "17c0b8f5",
   "metadata": {},
   "outputs": [],
   "source": [
    "#import necessary libraries for data manipulation\n",
    "import numpy as np\n",
    "import pandas as pd\n",
    "\n",
    "#import necessary libraries for data visualisation\n",
    "import seaborn as sns\n",
    "import matplotlib.pyplot as plt\n",
    "import warnings \n",
    "warnings.filterwarnings('ignore')"
   ]
  },
  {
   "cell_type": "markdown",
   "id": "48200113",
   "metadata": {},
   "source": [
    "### Understanding the structure of data\n"
   ]
  },
  {
   "cell_type": "code",
   "execution_count": 70,
   "id": "9ae4f3e9",
   "metadata": {
    "scrolled": false
   },
   "outputs": [],
   "source": [
    "# Read data from csv file\n",
    "\n",
    "\n",
    "data_csv = pd.read_csv('/Users/vineethadevassiakaithakkal/Documents/JustGroup/over250payments2023.csv', encoding='latin1')\n",
    "\n",
    "# Creating a copy of data set\n",
    "df = data_csv.copy()"
   ]
  },
  {
   "cell_type": "code",
   "execution_count": 73,
   "id": "b4f01bf3",
   "metadata": {},
   "outputs": [
    {
     "data": {
      "text/plain": [
       "(51535, 13)"
      ]
     },
     "execution_count": 73,
     "metadata": {},
     "output_type": "execute_result"
    }
   ],
   "source": [
    "# Check the shape of data set\n",
    "df.shape\n"
   ]
  },
  {
   "cell_type": "markdown",
   "id": "18a9b541",
   "metadata": {},
   "source": [
    "- There are 51535 rows and 13 columns in the data dataset"
   ]
  },
  {
   "cell_type": "code",
   "execution_count": 74,
   "id": "596bca63",
   "metadata": {},
   "outputs": [
    {
     "data": {
      "text/html": [
       "<div>\n",
       "<style scoped>\n",
       "    .dataframe tbody tr th:only-of-type {\n",
       "        vertical-align: middle;\n",
       "    }\n",
       "\n",
       "    .dataframe tbody tr th {\n",
       "        vertical-align: top;\n",
       "    }\n",
       "\n",
       "    .dataframe thead th {\n",
       "        text-align: right;\n",
       "    }\n",
       "</style>\n",
       "<table border=\"1\" class=\"dataframe\">\n",
       "  <thead>\n",
       "    <tr style=\"text-align: right;\">\n",
       "      <th></th>\n",
       "      <th>Organisation_Name</th>\n",
       "      <th>Directorate</th>\n",
       "      <th>Department</th>\n",
       "      <th>Service_Plan</th>\n",
       "      <th>Creditor_Name</th>\n",
       "      <th>Payment_Date</th>\n",
       "      <th>Transaction_No</th>\n",
       "      <th>Card_Transaction</th>\n",
       "      <th>Net_Amount</th>\n",
       "      <th>Irrecoverable_VAT</th>\n",
       "      <th>Subjective_Group</th>\n",
       "      <th>Subjective_Subgroup</th>\n",
       "      <th>Subjective_Detail</th>\n",
       "    </tr>\n",
       "  </thead>\n",
       "  <tbody>\n",
       "    <tr>\n",
       "      <th>0</th>\n",
       "      <td>City of York Council</td>\n",
       "      <td>Adult Social Care and Integration</td>\n",
       "      <td>AD Adult Social Care</td>\n",
       "      <td>Adult Safeguarding</td>\n",
       "      <td>United Response</td>\n",
       "      <td>04/04/2023</td>\n",
       "      <td>202324CR00000001</td>\n",
       "      <td>NaN</td>\n",
       "      <td>-431.16</td>\n",
       "      <td>NaN</td>\n",
       "      <td>Supplies And Services</td>\n",
       "      <td>Services</td>\n",
       "      <td>Day Support</td>\n",
       "    </tr>\n",
       "    <tr>\n",
       "      <th>1</th>\n",
       "      <td>City of York Council</td>\n",
       "      <td>Adult Social Care and Integration</td>\n",
       "      <td>AD Adult Social Care</td>\n",
       "      <td>Operations</td>\n",
       "      <td>Newcross Healthcare Solutions</td>\n",
       "      <td>26/04/2023</td>\n",
       "      <td>202324CR00000002</td>\n",
       "      <td>NaN</td>\n",
       "      <td>9326.13</td>\n",
       "      <td>NaN</td>\n",
       "      <td>Employees</td>\n",
       "      <td>Indirect Employees</td>\n",
       "      <td>External Temporary Staff</td>\n",
       "    </tr>\n",
       "    <tr>\n",
       "      <th>2</th>\n",
       "      <td>City of York Council</td>\n",
       "      <td>Adult Social Care and Integration</td>\n",
       "      <td>AD Adult Social Care</td>\n",
       "      <td>Operations</td>\n",
       "      <td>Newcross Healthcare Solutions</td>\n",
       "      <td>26/04/2023</td>\n",
       "      <td>202324CR00000003</td>\n",
       "      <td>NaN</td>\n",
       "      <td>4115.00</td>\n",
       "      <td>NaN</td>\n",
       "      <td>Employees</td>\n",
       "      <td>Indirect Employees</td>\n",
       "      <td>External Temporary Staff</td>\n",
       "    </tr>\n",
       "    <tr>\n",
       "      <th>3</th>\n",
       "      <td>City of York Council</td>\n",
       "      <td>Adult Social Care and Integration</td>\n",
       "      <td>AD Adult Social Care</td>\n",
       "      <td>Operations</td>\n",
       "      <td>Newcross Healthcare Solutions</td>\n",
       "      <td>26/04/2023</td>\n",
       "      <td>202324CR00000004</td>\n",
       "      <td>NaN</td>\n",
       "      <td>5389.65</td>\n",
       "      <td>NaN</td>\n",
       "      <td>Employees</td>\n",
       "      <td>Indirect Employees</td>\n",
       "      <td>External Temporary Staff</td>\n",
       "    </tr>\n",
       "    <tr>\n",
       "      <th>4</th>\n",
       "      <td>City of York Council</td>\n",
       "      <td>Adult Social Care and Integration</td>\n",
       "      <td>AD Adult Social Care</td>\n",
       "      <td>Hospital and Mental Health</td>\n",
       "      <td>Randstad Public Services Ltd</td>\n",
       "      <td>06/04/2023</td>\n",
       "      <td>202324CR00000005</td>\n",
       "      <td>NaN</td>\n",
       "      <td>1611.35</td>\n",
       "      <td>NaN</td>\n",
       "      <td>Employees</td>\n",
       "      <td>Indirect Employees</td>\n",
       "      <td>External Temporary Staff</td>\n",
       "    </tr>\n",
       "  </tbody>\n",
       "</table>\n",
       "</div>"
      ],
      "text/plain": [
       "      Organisation_Name                        Directorate  \\\n",
       "0  City of York Council  Adult Social Care and Integration   \n",
       "1  City of York Council  Adult Social Care and Integration   \n",
       "2  City of York Council  Adult Social Care and Integration   \n",
       "3  City of York Council  Adult Social Care and Integration   \n",
       "4  City of York Council  Adult Social Care and Integration   \n",
       "\n",
       "             Department                Service_Plan  \\\n",
       "0  AD Adult Social Care          Adult Safeguarding   \n",
       "1  AD Adult Social Care                  Operations   \n",
       "2  AD Adult Social Care                  Operations   \n",
       "3  AD Adult Social Care                  Operations   \n",
       "4  AD Adult Social Care  Hospital and Mental Health   \n",
       "\n",
       "                   Creditor_Name Payment_Date    Transaction_No  \\\n",
       "0                United Response   04/04/2023  202324CR00000001   \n",
       "1  Newcross Healthcare Solutions   26/04/2023  202324CR00000002   \n",
       "2  Newcross Healthcare Solutions   26/04/2023  202324CR00000003   \n",
       "3  Newcross Healthcare Solutions   26/04/2023  202324CR00000004   \n",
       "4   Randstad Public Services Ltd   06/04/2023  202324CR00000005   \n",
       "\n",
       "   Card_Transaction  Net_Amount  Irrecoverable_VAT       Subjective_Group  \\\n",
       "0               NaN     -431.16                NaN  Supplies And Services   \n",
       "1               NaN     9326.13                NaN              Employees   \n",
       "2               NaN     4115.00                NaN              Employees   \n",
       "3               NaN     5389.65                NaN              Employees   \n",
       "4               NaN     1611.35                NaN              Employees   \n",
       "\n",
       "  Subjective_Subgroup         Subjective_Detail  \n",
       "0            Services               Day Support  \n",
       "1  Indirect Employees  External Temporary Staff  \n",
       "2  Indirect Employees  External Temporary Staff  \n",
       "3  Indirect Employees  External Temporary Staff  \n",
       "4  Indirect Employees  External Temporary Staff  "
      ]
     },
     "execution_count": 74,
     "metadata": {},
     "output_type": "execute_result"
    }
   ],
   "source": [
    "# Understanding the data\n",
    "df.head()"
   ]
  },
  {
   "cell_type": "code",
   "execution_count": 23,
   "id": "5a799404",
   "metadata": {},
   "outputs": [
    {
     "data": {
      "text/html": [
       "<div>\n",
       "<style scoped>\n",
       "    .dataframe tbody tr th:only-of-type {\n",
       "        vertical-align: middle;\n",
       "    }\n",
       "\n",
       "    .dataframe tbody tr th {\n",
       "        vertical-align: top;\n",
       "    }\n",
       "\n",
       "    .dataframe thead th {\n",
       "        text-align: right;\n",
       "    }\n",
       "</style>\n",
       "<table border=\"1\" class=\"dataframe\">\n",
       "  <thead>\n",
       "    <tr style=\"text-align: right;\">\n",
       "      <th></th>\n",
       "      <th>Organisation_Name</th>\n",
       "      <th>Directorate</th>\n",
       "      <th>Department</th>\n",
       "      <th>Service_Plan</th>\n",
       "      <th>Creditor_Name</th>\n",
       "      <th>Payment_Date</th>\n",
       "      <th>Transaction_No</th>\n",
       "      <th>Card_Transaction</th>\n",
       "      <th>Net_Amount</th>\n",
       "      <th>Irrecoverable_VAT</th>\n",
       "      <th>Subjective_Group</th>\n",
       "      <th>Subjective_Subgroup</th>\n",
       "      <th>Subjective_Detail</th>\n",
       "    </tr>\n",
       "  </thead>\n",
       "  <tbody>\n",
       "    <tr>\n",
       "      <th>51530</th>\n",
       "      <td>City of York Council</td>\n",
       "      <td>Place Directorate</td>\n",
       "      <td>Economy Regeneration and Housing</td>\n",
       "      <td>Housing Services</td>\n",
       "      <td>St Paul`s Lodge</td>\n",
       "      <td>31/01/2024 00:00</td>\n",
       "      <td>202324CR00051531</td>\n",
       "      <td>NaN</td>\n",
       "      <td>595.0</td>\n",
       "      <td>NaN</td>\n",
       "      <td>Supplies And Services</td>\n",
       "      <td>Misc Expenses</td>\n",
       "      <td>Bed and Breakfast</td>\n",
       "    </tr>\n",
       "    <tr>\n",
       "      <th>51531</th>\n",
       "      <td>City of York Council</td>\n",
       "      <td>Place Directorate</td>\n",
       "      <td>Economy Regeneration and Housing</td>\n",
       "      <td>Housing Services</td>\n",
       "      <td>St Paul`s Lodge</td>\n",
       "      <td>31/01/2024 00:00</td>\n",
       "      <td>202324CR00051532</td>\n",
       "      <td>NaN</td>\n",
       "      <td>595.0</td>\n",
       "      <td>NaN</td>\n",
       "      <td>Supplies And Services</td>\n",
       "      <td>Misc Expenses</td>\n",
       "      <td>Bed and Breakfast</td>\n",
       "    </tr>\n",
       "    <tr>\n",
       "      <th>51532</th>\n",
       "      <td>City of York Council</td>\n",
       "      <td>Place Directorate</td>\n",
       "      <td>Economy Regeneration and Housing</td>\n",
       "      <td>Housing Services</td>\n",
       "      <td>St Paul`s Lodge</td>\n",
       "      <td>31/01/2024 00:00</td>\n",
       "      <td>202324CR00051533</td>\n",
       "      <td>NaN</td>\n",
       "      <td>595.0</td>\n",
       "      <td>NaN</td>\n",
       "      <td>Supplies And Services</td>\n",
       "      <td>Misc Expenses</td>\n",
       "      <td>Bed and Breakfast</td>\n",
       "    </tr>\n",
       "    <tr>\n",
       "      <th>51533</th>\n",
       "      <td>City of York Council</td>\n",
       "      <td>Place Directorate</td>\n",
       "      <td>Economy Regeneration and Housing</td>\n",
       "      <td>Housing Services</td>\n",
       "      <td>St Paul`s Lodge</td>\n",
       "      <td>31/01/2024 00:00</td>\n",
       "      <td>202324CR00051534</td>\n",
       "      <td>NaN</td>\n",
       "      <td>595.0</td>\n",
       "      <td>NaN</td>\n",
       "      <td>Supplies And Services</td>\n",
       "      <td>Misc Expenses</td>\n",
       "      <td>Bed and Breakfast</td>\n",
       "    </tr>\n",
       "    <tr>\n",
       "      <th>51534</th>\n",
       "      <td>City of York Council</td>\n",
       "      <td>Place Directorate</td>\n",
       "      <td>Economy Regeneration and Housing</td>\n",
       "      <td>Housing Services</td>\n",
       "      <td>St Paul`s Lodge</td>\n",
       "      <td>31/01/2024 00:00</td>\n",
       "      <td>202324CR00051535</td>\n",
       "      <td>NaN</td>\n",
       "      <td>595.0</td>\n",
       "      <td>NaN</td>\n",
       "      <td>Supplies And Services</td>\n",
       "      <td>Misc Expenses</td>\n",
       "      <td>Bed and Breakfast</td>\n",
       "    </tr>\n",
       "  </tbody>\n",
       "</table>\n",
       "</div>"
      ],
      "text/plain": [
       "          Organisation_Name        Directorate  \\\n",
       "51530  City of York Council  Place Directorate   \n",
       "51531  City of York Council  Place Directorate   \n",
       "51532  City of York Council  Place Directorate   \n",
       "51533  City of York Council  Place Directorate   \n",
       "51534  City of York Council  Place Directorate   \n",
       "\n",
       "                             Department      Service_Plan    Creditor_Name  \\\n",
       "51530  Economy Regeneration and Housing  Housing Services  St Paul`s Lodge   \n",
       "51531  Economy Regeneration and Housing  Housing Services  St Paul`s Lodge   \n",
       "51532  Economy Regeneration and Housing  Housing Services  St Paul`s Lodge   \n",
       "51533  Economy Regeneration and Housing  Housing Services  St Paul`s Lodge   \n",
       "51534  Economy Regeneration and Housing  Housing Services  St Paul`s Lodge   \n",
       "\n",
       "           Payment_Date    Transaction_No  Card_Transaction  Net_Amount  \\\n",
       "51530  31/01/2024 00:00  202324CR00051531               NaN       595.0   \n",
       "51531  31/01/2024 00:00  202324CR00051532               NaN       595.0   \n",
       "51532  31/01/2024 00:00  202324CR00051533               NaN       595.0   \n",
       "51533  31/01/2024 00:00  202324CR00051534               NaN       595.0   \n",
       "51534  31/01/2024 00:00  202324CR00051535               NaN       595.0   \n",
       "\n",
       "       Irrecoverable_VAT       Subjective_Group Subjective_Subgroup  \\\n",
       "51530                NaN  Supplies And Services       Misc Expenses   \n",
       "51531                NaN  Supplies And Services       Misc Expenses   \n",
       "51532                NaN  Supplies And Services       Misc Expenses   \n",
       "51533                NaN  Supplies And Services       Misc Expenses   \n",
       "51534                NaN  Supplies And Services       Misc Expenses   \n",
       "\n",
       "       Subjective_Detail  \n",
       "51530  Bed and Breakfast  \n",
       "51531  Bed and Breakfast  \n",
       "51532  Bed and Breakfast  \n",
       "51533  Bed and Breakfast  \n",
       "51534  Bed and Breakfast  "
      ]
     },
     "execution_count": 23,
     "metadata": {},
     "output_type": "execute_result"
    }
   ],
   "source": [
    "df.tail()"
   ]
  },
  {
   "cell_type": "code",
   "execution_count": 24,
   "id": "95d4a9cf",
   "metadata": {},
   "outputs": [
    {
     "name": "stdout",
     "output_type": "stream",
     "text": [
      "<class 'pandas.core.frame.DataFrame'>\n",
      "RangeIndex: 51535 entries, 0 to 51534\n",
      "Data columns (total 13 columns):\n",
      " #   Column               Non-Null Count  Dtype  \n",
      "---  ------               --------------  -----  \n",
      " 0   Organisation_Name    51535 non-null  object \n",
      " 1   Directorate          51535 non-null  object \n",
      " 2   Department           51535 non-null  object \n",
      " 3   Service_Plan         51535 non-null  object \n",
      " 4   Creditor_Name        51535 non-null  object \n",
      " 5   Payment_Date         51535 non-null  object \n",
      " 6   Transaction_No       51535 non-null  object \n",
      " 7   Card_Transaction     0 non-null      float64\n",
      " 8   Net_Amount           51535 non-null  float64\n",
      " 9   Irrecoverable_VAT    0 non-null      float64\n",
      " 10  Subjective_Group     51535 non-null  object \n",
      " 11  Subjective_Subgroup  51535 non-null  object \n",
      " 12  Subjective_Detail    51535 non-null  object \n",
      "dtypes: float64(3), object(10)\n",
      "memory usage: 5.1+ MB\n"
     ]
    }
   ],
   "source": [
    "df.info()"
   ]
  },
  {
   "cell_type": "code",
   "execution_count": 27,
   "id": "79c77c2f",
   "metadata": {},
   "outputs": [
    {
     "data": {
      "text/plain": [
       "Organisation_Name          0\n",
       "Directorate                0\n",
       "Department                 0\n",
       "Service_Plan               0\n",
       "Creditor_Name              0\n",
       "Payment_Date               0\n",
       "Transaction_No             0\n",
       "Card_Transaction       51535\n",
       "Net_Amount                 0\n",
       "Irrecoverable_VAT      51535\n",
       "Subjective_Group           0\n",
       "Subjective_Subgroup        0\n",
       "Subjective_Detail          0\n",
       "dtype: int64"
      ]
     },
     "execution_count": 27,
     "metadata": {},
     "output_type": "execute_result"
    }
   ],
   "source": [
    "# checking for null values\n",
    "df.isnull().sum()"
   ]
  },
  {
   "cell_type": "markdown",
   "id": "f638d171",
   "metadata": {},
   "source": [
    "-  I can see that transactions do not involve card payments or do not have any Irrecoverable VAT.Further investigation can be done to understand if there are any mismatch in the data.\n",
    "- Otherwise there are no null values."
   ]
  },
  {
   "cell_type": "code",
   "execution_count": 35,
   "id": "2eeb448b",
   "metadata": {},
   "outputs": [
    {
     "data": {
      "text/plain": [
       "0"
      ]
     },
     "execution_count": 35,
     "metadata": {},
     "output_type": "execute_result"
    }
   ],
   "source": [
    "df.duplicated().sum()"
   ]
  },
  {
   "cell_type": "markdown",
   "id": "16ca0b0d",
   "metadata": {},
   "source": [
    "- There are no dupliacte rows"
   ]
  },
  {
   "cell_type": "code",
   "execution_count": 101,
   "id": "79d67964",
   "metadata": {},
   "outputs": [
    {
     "name": "stdout",
     "output_type": "stream",
     "text": [
      "count      51535\n",
      "mean        4326\n",
      "std        36660\n",
      "min      -193743\n",
      "25%          331\n",
      "50%          730\n",
      "75%         3212\n",
      "max      5761247\n",
      "Name: Net_Amount, dtype: int64\n"
     ]
    }
   ],
   "source": [
    "# Statistical summary of paymemt amount\n",
    "Net_amount_Summary = df['Net_Amount'].describe()\n",
    "# Convert the summary statistics to integers\n",
    "Net_amount_Summary_int = Net_amount_Summary.astype(int)\n",
    "\n",
    "print(Net_amount_Summary_int)\n",
    "#print(Net_amount_Summary)\n"
   ]
  },
  {
   "cell_type": "markdown",
   "id": "0682a913",
   "metadata": {},
   "source": [
    "- Out of 51535 transactions mean transaction amount is approximately 4326\n",
    "\n",
    "\n",
    "\n"
   ]
  },
  {
   "cell_type": "markdown",
   "id": "3c773f33",
   "metadata": {},
   "source": [
    "###### Find average payment amount per supplier\n",
    "average_payment_per_supplier = df.groupby('Creditor_Name')['Net_Amount'].mean()\n",
    "print('Average Payment amount :',average_payment_per_supplier)\n"
   ]
  },
  {
   "cell_type": "markdown",
   "id": "27d82b1d",
   "metadata": {},
   "source": [
    "## Univariate Analysis"
   ]
  },
  {
   "cell_type": "code",
   "execution_count": 91,
   "id": "baabe976",
   "metadata": {},
   "outputs": [
    {
     "name": "stdout",
     "output_type": "stream",
     "text": [
      "2304\n"
     ]
    }
   ],
   "source": [
    "# Count of total number of Suppliers\n",
    "total_suppliers = df['Creditor_Name'].nunique()\n",
    "print(total_suppliers)"
   ]
  },
  {
   "cell_type": "markdown",
   "id": "a7ddc9aa",
   "metadata": {},
   "source": [
    "- There are around 2304 suppliers"
   ]
  },
  {
   "cell_type": "code",
   "execution_count": 47,
   "id": "86f77426",
   "metadata": {},
   "outputs": [
    {
     "name": "stdout",
     "output_type": "stream",
     "text": [
      "Total Amount paid to Suppliers 222968319.56000003\n"
     ]
    }
   ],
   "source": [
    "# Net amount paid to the suppliers\n",
    "net_amount_paid = df['Net_Amount'].sum()\n",
    "print(\"Total Amount paid to Suppliers\", net_amount_paid)"
   ]
  },
  {
   "cell_type": "markdown",
   "id": "4d0ec11d",
   "metadata": {},
   "source": [
    "- Total amount paid to the suppliers is around two hundred and twenty two million "
   ]
  },
  {
   "cell_type": "code",
   "execution_count": 77,
   "id": "8cdb3029",
   "metadata": {},
   "outputs": [
    {
     "name": "stdout",
     "output_type": "stream",
     "text": [
      "113512405.49\n",
      "Supplies And Services\n"
     ]
    }
   ],
   "source": [
    "# Find which expense area has the hoighest total amount\n",
    "highest_total_amount = df.groupby('Subjective_Group')['Net_Amount'].sum().max()\n",
    "highest_spent_service = df.groupby('Subjective_Group')['Net_Amount'].sum().idxmax()\n",
    "print(highest_total_amount)\n",
    "print(highest_spent_service)\n",
    "\n"
   ]
  },
  {
   "cell_type": "markdown",
   "id": "801c6068",
   "metadata": {},
   "source": [
    "- Supplies and Services is the highest expense area\n"
   ]
  },
  {
   "cell_type": "code",
   "execution_count": 90,
   "id": "19968b39",
   "metadata": {},
   "outputs": [
    {
     "data": {
      "image/png": "[encoded data removed]",
      "text/plain": [
       "<Figure size 1000x800 with 1 Axes>"
      ]
     },
     "metadata": {},
     "output_type": "display_data"
    }
   ],
   "source": [
    "# Hitogram visualisation of amount paid to the Subjective_Group\n",
    "\n",
    "grouped_data = df.groupby('Subjective_Group')['Net_Amount'].sum().reset_index()\n",
    "\n",
    "# Sort the data by total spending in descending order for better visualization\n",
    "grouped_data_sorted = grouped_data.sort_values(by='Net_Amount', ascending=False)\n",
    "\n",
    "plt.figure(figsize=(10, 8))  \n",
    "plt.bar(grouped_data_sorted['Subjective_Group'], grouped_data_sorted['Net_Amount'], color='blue')\n",
    "plt.title('Total Spending by Subjective Group')\n",
    "plt.xlabel('Subjective Group')\n",
    "plt.ylabel('Total Spending')\n",
    "plt.xticks(rotation=45, ha='right')\n",
    "plt.tight_layout()\n",
    "plt.show()"
   ]
  },
  {
   "cell_type": "code",
   "execution_count": null,
   "id": "d847db93",
   "metadata": {},
   "outputs": [],
   "source": []
  }
 ],
 "metadata": {
  "kernelspec": {
   "display_name": "Python 3 (ipykernel)",
   "language": "python",
   "name": "python3"
  },
  "language_info": {
   "codemirror_mode": {
    "name": "ipython",
    "version": 3
   },
   "file_extension": ".py",
   "mimetype": "text/x-python",
   "name": "python",
   "nbconvert_exporter": "python",
   "pygments_lexer": "ipython3",
   "version": "3.10.9"
  }
 },
 "nbformat": 4,
 "nbformat_minor": 5
}
